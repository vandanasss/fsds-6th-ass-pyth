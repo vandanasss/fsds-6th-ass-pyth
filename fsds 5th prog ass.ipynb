{
 "cells": [
  {
   "cell_type": "code",
   "execution_count": 1,
   "id": "d623294c",
   "metadata": {},
   "outputs": [
    {
     "name": "stdout",
     "output_type": "stream",
     "text": [
      "The LCM of 3,8 is 24\n",
      "The LCM of 5,2 is 10\n",
      "The LCM of 5,17 is 85\n"
     ]
    }
   ],
   "source": [
    "#1. Write a Python Program to find LCM ?\n",
    "def findTheLcm(x_term,y_term):\n",
    "    if x_term > y_term:\n",
    "        greater = x_term\n",
    "    else:\n",
    "        greater = x_term\n",
    "    while True:\n",
    "        if((greater%x_term == 0) and (greater%y_term == 0)):\n",
    "            lcm = greater\n",
    "            break\n",
    "        else:\n",
    "            greater +=1\n",
    "    print(f'The LCM of {x_term},{y_term} is {lcm}')\n",
    "\n",
    "findTheLcm(3,8)\n",
    "findTheLcm(5,2)\n",
    "findTheLcm(5,17)"
   ]
  },
  {
   "cell_type": "code",
   "execution_count": null,
   "id": "b8ce741d",
   "metadata": {},
   "outputs": [],
   "source": []
  },
  {
   "cell_type": "code",
   "execution_count": null,
   "id": "0a4191c7",
   "metadata": {},
   "outputs": [],
   "source": []
  },
  {
   "cell_type": "code",
   "execution_count": 2,
   "id": "718c05f5",
   "metadata": {},
   "outputs": [
    {
     "name": "stdout",
     "output_type": "stream",
     "text": [
      "The HCF of 6,18 is 6\n",
      "The HCF of 2,9 is 1\n",
      "The HCF of 10,29 is 1\n"
     ]
    }
   ],
   "source": [
    "#2. Write a Python Program to find HCF ?\n",
    "def findTheHcf(x_term,y_term):\n",
    "    if x_term>y_term:\n",
    "        smaller = y_term\n",
    "    else:\n",
    "        smaller = x_term\n",
    "    for ele in range(1,smaller+1):\n",
    "        if((x_term%ele == 0) and (y_term%ele == 0)):\n",
    "            hcf = ele\n",
    "    print(f'The HCF of {x_term},{y_term} is {hcf}')\n",
    "\n",
    "findTheHcf(6,18)\n",
    "findTheHcf(2,9)\n",
    "findTheHcf(10,29)"
   ]
  },
  {
   "cell_type": "code",
   "execution_count": null,
   "id": "6a3f1bf1",
   "metadata": {},
   "outputs": [],
   "source": []
  },
  {
   "cell_type": "code",
   "execution_count": null,
   "id": "91dce4a1",
   "metadata": {},
   "outputs": [],
   "source": []
  },
  {
   "cell_type": "code",
   "execution_count": 5,
   "id": "10e028e5",
   "metadata": {},
   "outputs": [
    {
     "name": "stdout",
     "output_type": "stream",
     "text": [
      "Enter a Number: 65743\n",
      "Binary Number -> 0b10000000011001111\n",
      "Octal Number -> 0o200317\n",
      "Hexadecimal Number -> 0x100cf\n"
     ]
    }
   ],
   "source": [
    "#3. Write a Python Program to Convert Decimal to Binary, Octal and Hexadecimal ?\n",
    "def DecimalToOther():\n",
    "    num = int(input('Enter a Number: '))\n",
    "    print(f'Binary Number -> {bin(num)}')\n",
    "    print(f'Octal Number -> {oct(num)}')    \n",
    "    print(f'Hexadecimal Number -> {hex(num)}')    \n",
    "\n",
    "DecimalToOther()\n"
   ]
  },
  {
   "cell_type": "code",
   "execution_count": null,
   "id": "8233e47e",
   "metadata": {},
   "outputs": [],
   "source": []
  },
  {
   "cell_type": "code",
   "execution_count": null,
   "id": "faf56b0b",
   "metadata": {},
   "outputs": [],
   "source": []
  },
  {
   "cell_type": "code",
   "execution_count": 6,
   "id": "0b971e0b",
   "metadata": {},
   "outputs": [
    {
     "name": "stdout",
     "output_type": "stream",
     "text": [
      "Enter a Character: #\n",
      "Ascii Character of # is 35\n"
     ]
    }
   ],
   "source": [
    "#4. Write a Python Program to Find the ASCII value of a Character ?\n",
    "def charToAscii():\n",
    "    char = input('Enter a Character: ')\n",
    "    if len(char) > 1:\n",
    "        print('Please Enter a Single Character')\n",
    "    else:\n",
    "        print(f'Ascii Character of {char} is {ord(char)}')\n",
    "\n",
    "charToAscii()"
   ]
  },
  {
   "cell_type": "code",
   "execution_count": null,
   "id": "d32b090e",
   "metadata": {},
   "outputs": [],
   "source": []
  },
  {
   "cell_type": "code",
   "execution_count": null,
   "id": "e0526a0b",
   "metadata": {},
   "outputs": [],
   "source": []
  },
  {
   "cell_type": "code",
   "execution_count": 7,
   "id": "0995b417",
   "metadata": {},
   "outputs": [
    {
     "name": "stdout",
     "output_type": "stream",
     "text": [
      "Select a Arithmetic Operation:         \n",
      "1.Addition(+)        \n",
      "2.Division(-)        \n",
      "2.Multiplication(*)        \n",
      "4.Division(/)        \n",
      "3.Stop(0)\n",
      "\n",
      "Enter a arithmetic operation -> *\n",
      "\n",
      "Enter 1st Number: 9\n",
      "Enter 2nd Number: 8\n",
      "9*8=72\n",
      "\n",
      "Enter a arithmetic operation -> 0\n",
      "Program Stopped successfully\n"
     ]
    }
   ],
   "source": [
    "\n",
    "#5. Write a Python Program to Make a Simple Calculator with 4 Basic Mathematical operations ?\n",
    "import operator\n",
    "\n",
    "ops = { \"+\": operator.add, \"-\": operator.sub, \"*\":operator.mul, \"/\":operator.truediv } \n",
    "\n",
    "print('Select a Arithmetic Operation: \\\n",
    "        \\n1.Addition(+)\\\n",
    "        \\n2.Division(-)\\\n",
    "        \\n2.Multiplication(*)\\\n",
    "        \\n4.Division(/)\\\n",
    "        \\n3.Stop(0)\\n')\n",
    "   \n",
    "\n",
    "while True:\n",
    "    operator = input('Enter a arithmetic operation -> ')\n",
    "    if operator == '0':\n",
    "        print(\"Program Stopped successfully\")\n",
    "        break\n",
    "    elif operator not in ['+','-','*','/']:\n",
    "        print(\"Please enter a valid operator\")\n",
    "    else:\n",
    "        num_1 = int(input('\\nEnter 1st Number: '))\n",
    "        num_2 = int(input('Enter 2nd Number: '))\n",
    "        print(f'{num_1}{operator}{num_2}={ops[operator](num_1,num_2)}\\n')"
   ]
  },
  {
   "cell_type": "code",
   "execution_count": null,
   "id": "b01823c3",
   "metadata": {},
   "outputs": [],
   "source": []
  }
 ],
 "metadata": {
  "kernelspec": {
   "display_name": "Python 3 (ipykernel)",
   "language": "python",
   "name": "python3"
  },
  "language_info": {
   "codemirror_mode": {
    "name": "ipython",
    "version": 3
   },
   "file_extension": ".py",
   "mimetype": "text/x-python",
   "name": "python",
   "nbconvert_exporter": "python",
   "pygments_lexer": "ipython3",
   "version": "3.9.12"
  }
 },
 "nbformat": 4,
 "nbformat_minor": 5
}
